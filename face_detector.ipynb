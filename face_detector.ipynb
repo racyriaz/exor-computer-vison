{
 "cells": [
  {
   "cell_type": "code",
   "execution_count": 1,
   "metadata": {},
   "outputs": [],
   "source": [
    "import cv2\n",
    "import numpy as np \n",
    "import matplotlib as plt"
   ]
  },
  {
   "cell_type": "code",
   "execution_count": 2,
   "metadata": {},
   "outputs": [],
   "source": [
    "cap = cv2.VideoCapture(0)\n",
    "width = int(cap.get(cv2.CAP_PROP_FRAME_WIDTH))\n",
    "height = int(cap.get(cv2.CAP_PROP_FRAME_HEIGHT))\n",
    "\n",
    "\n",
    "frontal_face = cv2.CascadeClassifier(r'C:/Users/Machine/learning/Computer-Vision-with-Python/DATA/haarcascades/haarcascade_frontalface_default.xml')\n",
    "upper_body = cv2.CascadeClassifier(r'C:/Users/Machine/learning/Computer-Vision-with-Python/DATA/haarcascades/haarcascade_upperbody.xml')\n",
    "side_face = cv2.CascadeClassifier(r'C:/Users/Machine/learning/Computer-Vision-with-Python/DATA/haarcascades/haarcascade_profileface.xml')"
   ]
  },
  {
   "cell_type": "code",
   "execution_count": 3,
   "metadata": {},
   "outputs": [],
   "source": [
    "def track_upper_body(img):\n",
    "    body_img = img.copy()\n",
    "    body_rects = upper_body.detectMultiScale(body_img)\n",
    "    for (x,y,w,h) in body_rects: \n",
    "        cv2.rectangle(body_img, (x,y), (x+w,y+h), (255,255,255), 4)    \n",
    "    return body_img\n",
    "    track_frontal_face(body_img)\n",
    "    \n",
    "def track_side_face(img):\n",
    "    side_img = img.copy()\n",
    "    side_face_rects = side_face.detectMultiScale(side_img)\n",
    "    for (x,y,w,h) in side_face_rects: \n",
    "        cv2.rectangle(side_img, (x,y), (x+w,y+h), (255,255,255), 4)\n",
    "    return side_img\n",
    "\n",
    "def track_frontal_face(img):\n",
    "    face_img = img.copy()\n",
    "    face_rects = frontal_face.detectMultiScale(face_img,1.0485258,6)\n",
    "    for (x,y,w,h) in face_rects: \n",
    "        cv2.rectangle(face_img, (x,y), (x+w,y+h), (255,0,255), 4)\n",
    "    return face_img"
   ]
  },
  {
   "cell_type": "code",
   "execution_count": null,
   "metadata": {},
   "outputs": [],
   "source": []
  },
  {
   "cell_type": "code",
   "execution_count": null,
   "metadata": {},
   "outputs": [],
   "source": [
    "while True:\n",
    "    ret,frame = cap.read()\n",
    "    #cv2.imshow('LIVE',frame)\n",
    "    \n",
    "    '''upper_body_result = track_upper_body(frame)\n",
    "    cv2.imshow('YOUR_FACE',upper_body_result)'''\n",
    "    \n",
    "    face_result = track_frontal_face(frame)\n",
    "    cv2.imshow('YOUR_FACE',face_result)\n",
    "    if cv2.waitKey(20) & 0xFF == 27:\n",
    "        break\n",
    "        \n",
    "cap.release()\n",
    "cv2.destroyAllWindows()"
   ]
  }
 ],
 "metadata": {
  "kernelspec": {
   "display_name": "Python 3",
   "language": "python",
   "name": "python3"
  },
  "language_info": {
   "codemirror_mode": {
    "name": "ipython",
    "version": 3
   },
   "file_extension": ".py",
   "mimetype": "text/x-python",
   "name": "python",
   "nbconvert_exporter": "python",
   "pygments_lexer": "ipython3",
   "version": "3.6.6"
  }
 },
 "nbformat": 4,
 "nbformat_minor": 4
}
